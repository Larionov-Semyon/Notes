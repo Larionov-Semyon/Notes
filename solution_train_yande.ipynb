{
 "cells": [
  {
   "cell_type": "markdown",
   "source": [
    "Тренировка по алгоритмам 2.0\n",
    "\n",
    "A. Количество совпадающих"
   ],
   "metadata": {
    "collapsed": false
   }
  },
  {
   "cell_type": "code",
   "execution_count": 3,
   "outputs": [
    {
     "name": "stdout",
     "output_type": "stream",
     "text": [
      "2\n"
     ]
    }
   ],
   "source": [
    "print(len(set(map(int, input().split())).intersection(set(map(int, input().split())))))"
   ],
   "metadata": {
    "collapsed": false,
    "pycharm": {
     "name": "#%%\n"
    }
   }
  },
  {
   "cell_type": "markdown",
   "source": [
    "B. Встречалось ли число раньше"
   ],
   "metadata": {
    "collapsed": false,
    "pycharm": {
     "name": "#%% md\n"
    }
   }
  },
  {
   "cell_type": "code",
   "execution_count": 4,
   "outputs": [
    {
     "name": "stdout",
     "output_type": "stream",
     "text": [
      "NO\n",
      "NO\n",
      "NO\n",
      "NO\n",
      "NO\n",
      "YES\n",
      "YES\n",
      "YES\n",
      "NO\n",
      "NO\n",
      "YES\n",
      "--- old program 13.974916219711304 seconds ---\n",
      "NO\n",
      "NO\n",
      "NO\n",
      "NO\n",
      "NO\n",
      "NO\n",
      "NO\n",
      "NO\n",
      "YES\n",
      "YES\n",
      "YES\n",
      "NO\n",
      "NO\n",
      "NO\n",
      "NO\n",
      "NO\n",
      "--- 19.512167930603027 new program with hash seconds ---\n"
     ]
    }
   ],
   "source": [
    "\n",
    "import time\n",
    "\n",
    "start_time = time.time()\n",
    "l = list(map(int, input().split()))\n",
    "\n",
    "for i in range(len(l)):\n",
    "    if l[i] in l[0:i]:\n",
    "        print(\"YES\")\n",
    "    else:\n",
    "        print(\"NO\")\n",
    "\n",
    "\n",
    "print(\"--- old program %s seconds ---\" % (time.time() - start_time))\n",
    "\n",
    "\n",
    "start_time = time.time()\n",
    "\n",
    "l = list(map(int, input().split()))\n",
    "hash = [[] for i in range(10)]\n",
    "\n",
    "for i in l:\n",
    "    h = i % 10\n",
    "    if i in hash[h]:\n",
    "        print(\"YES\")\n",
    "    else:\n",
    "        print(\"NO\")\n",
    "        hash[h].append(i)\n",
    "\n",
    "print(\"--- %s new program with hash seconds ---\" % (time.time() - start_time))"
   ],
   "metadata": {
    "collapsed": false,
    "pycharm": {
     "name": "#%%\n"
    }
   }
  },
  {
   "cell_type": "markdown",
   "source": [
    "C. Уникальные элементы\n",
    "\n",
    "Дан список. Выведите те его элементы, которые встречаются в списке только один раз. Элементы нужно выводить в том порядке, в котором они встречаются в списке."
   ],
   "metadata": {
    "collapsed": false
   }
  },
  {
   "cell_type": "code",
   "execution_count": null,
   "outputs": [],
   "source": [
    "import time\n",
    "\n",
    "start_time = time.time()\n",
    "l = list(map(int, input().split()))\n",
    "# l = [ i for i in range(10000)]\n",
    "\n",
    "for i in range(len(l)):\n",
    "    if l[i] in l[0:i] or l[i] in l[i + 1:]:\n",
    "        print(l[i])\n",
    "\n",
    "\n",
    "print(\"--- old program %s seconds ---\" % (time.time() - start_time))\n",
    "\n",
    "\n",
    "start_time = time.time()\n",
    "\n",
    "l = list(map(int, input().split()))\n",
    "a = [[], []]\n",
    "for i in l:\n",
    "    if i in a[0]:\n",
    "        a[1][a[0].index(i)] = 0\n",
    "    else:\n",
    "        a[0].append(i)\n",
    "        a[1].append(1)\n",
    "\n",
    "a = [i for i in a[0] if a[1][a[0].index(i)]]\n",
    "a = map(str, a)\n",
    "print(\" \".join(a))\n",
    "\n",
    "print(\"--- %s new program with hash seconds ---\" % (time.time() - start_time))"
   ],
   "metadata": {
    "collapsed": false,
    "pycharm": {
     "name": "#%%\n"
    }
   }
  },
  {
   "cell_type": "markdown",
   "source": [
    "D. Угадай число\n",
    "\n",
    "\n",
    "\n",
    "Август и Беатриса играют в игру. Август загадал натуральное число от 1 до n. Беатриса пытается угадать это число, для этого она называет некоторые множества натуральных чисел. Август отвечает Беатрисе YES, если среди названных ей чисел есть задуманное или NO в противном случае. После нескольких заданных вопросов Беатриса запуталась в том, какие вопросы она задавала и какие ответы получила и просит вас помочь ей определить, какие числа мог задумать Август.\n",
    "Формат ввода\n",
    "\n",
    "Первая строка входных данных содержит число n — наибольшее число, которое мог загадать Август. Далее идут строки, содержащие вопросы Беатрисы. Каждая строка представляет собой набор чисел, разделенных пробелами. После каждой строки с вопросом идет ответ Августа: YES или NO. Наконец, последняя строка входных данных содержит одно слово HELP.\n",
    "Формат вывода\n",
    "\n",
    "Вы должны вывести (через пробел, в порядке возрастания) все числа, которые мог задумать Август.\n"
   ],
   "metadata": {
    "collapsed": false,
    "pycharm": {
     "name": "#%% md\n"
    }
   }
  },
  {
   "cell_type": "code",
   "execution_count": null,
   "outputs": [],
   "source": [
    "start_time = time.time()\n",
    "\n",
    "N = int(input())\n",
    "a = [1 for i in range(N + 1)]\n",
    "a[0] = 0\n",
    "ans = input()\n",
    "while ans != \"HELP\":\n",
    "    l = list(map(int, ans.split()))\n",
    "    ans = input()\n",
    "\n",
    "    if ans == \"NO\":\n",
    "        for i in l:\n",
    "            a[i] = 0\n",
    "    else:\n",
    "        l_ = [0 for i in range(N + 1)]\n",
    "        for i in l:\n",
    "            l_[i] = 1\n",
    "\n",
    "        for i in range(N + 1):\n",
    "            a[i] = a[i] & l_[i]\n",
    "\n",
    "    ans = input()\n",
    "# print(a)\n",
    "print(\" \".join(list(map(str, [i for i in range(len(a)) if a[i] == 1]))))\n",
    "\n",
    "\n",
    "print(\"--- %s new program with hash seconds ---\" % (time.time() - start_time))"
   ],
   "metadata": {
    "collapsed": false,
    "pycharm": {
     "name": "#%%\n"
    }
   }
  },
  {
   "cell_type": "markdown",
   "source": [
    "E. Автомобильные номера"
   ],
   "metadata": {
    "collapsed": false
   }
  },
  {
   "cell_type": "code",
   "execution_count": null,
   "outputs": [],
   "source": [
    "N = int(input())\n",
    "glos = []\n",
    "for i in range(N):\n",
    "    set_num = set(input())\n",
    "    glos.append(set_num)\n",
    "\n",
    "N = int(input())\n",
    "ans = [[], []]\n",
    "max_c = -1\n",
    "for i in range(N):\n",
    "    c = 0\n",
    "    an = input()\n",
    "    ans[0].append(an)\n",
    "    set_an = set(an)\n",
    "    for y in glos:\n",
    "        if len(set_an & y) == len(y):\n",
    "            c += 1\n",
    "    ans[1].append(c)\n",
    "    if max_c < c:\n",
    "        max_c = c\n",
    "\n",
    "for i in range(N):                                                \n",
    "    if ans[1][i] == max_c:\n",
    "        print(ans[0][i])"
   ],
   "metadata": {
    "collapsed": false,
    "pycharm": {
     "name": "#%%\n"
    }
   }
  }
 ],
 "metadata": {
  "kernelspec": {
   "display_name": "Python 3",
   "language": "python",
   "name": "python3"
  },
  "language_info": {
   "codemirror_mode": {
    "name": "ipython",
    "version": 2
   },
   "file_extension": ".py",
   "mimetype": "text/x-python",
   "name": "python",
   "nbconvert_exporter": "python",
   "pygments_lexer": "ipython2",
   "version": "2.7.6"
  }
 },
 "nbformat": 4,
 "nbformat_minor": 0
}